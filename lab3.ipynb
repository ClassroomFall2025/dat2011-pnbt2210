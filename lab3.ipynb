{
 "cells": [
  {
   "cell_type": "markdown",
   "id": "fdeff819",
   "metadata": {},
   "source": [
    "# Sinh Viên thực hiện Lab 3 ở Đây"
   ]
  },
  {
   "cell_type": "markdown",
   "id": "acc5d7dc",
   "metadata": {},
   "source": [
    "## Lab 3 - Bài 1"
   ]
  },
  {
   "cell_type": "code",
   "execution_count": null,
   "id": "001e0507",
   "metadata": {},
   "outputs": [
    {
     "ename": "SyntaxError",
     "evalue": "expected ':' (2636081783.py, line 54)",
     "output_type": "error",
     "traceback": [
      "  \u001b[36mCell\u001b[39m\u001b[36m \u001b[39m\u001b[32mIn[25]\u001b[39m\u001b[32m, line 54\u001b[39m\n\u001b[31m    \u001b[39m\u001b[31mwhile x>=0\u001b[39m\n              ^\n\u001b[31mSyntaxError\u001b[39m\u001b[31m:\u001b[39m expected ':'\n"
     ]
    }
   ],
   "source": [
    "# Code lab 3 bài 1 ở đây\n",
    "danh_sach = [1, 2, 3, 4, 5, \"nguyenvan\", 2+2j, [4,5]]\n",
    "print(danh_sach)\n",
    "\n",
    "danh_sach = [1, 2, 3, 4, 5, \"nguyenvana\", 2+2j, [4,5]]\n",
    "print(danh_sach)\n",
    "print(danh_sach[3])\n",
    "print(danh_sach[-4])\n",
    "\n",
    "my_list = [1,2,3,4,5,\"hello\",[4,5]]\n",
    "for phantu in my_list:\n",
    "    print(phantu)\n",
    "\n",
    "# dung ham enumerate\n",
    "my_list = [1,2,3,4,5,\"hello\",[4,5]]\n",
    "for item in enumerate(my_list):\n",
    "    print(item)\n",
    "\n",
    "#Slicing trong list\n",
    "danh_sach = [1, 2, 3, 4, 5, \"python\", 2+2j, [4,5]]\n",
    "danh_sach_con = danh_sach[2:6]\n",
    "print(danh_sach_con)\n",
    "\n",
    "ds_so = [1,2,3,4,5,6,7,8,9,10]\n",
    "#ds_so_chan = ds_so[1:8:2]\n",
    "#print(ds_so_chan)\n",
    "#print (len(ds_so_chan))\n",
    "#ds_so.append(\"goodbye\")\n",
    "#ds_so.append(9)\n",
    "#ds_so.append([4,5,6])\n",
    "#ds_so.insert(0,\"hello\")\n",
    "#print(ds_so)\n",
    "#ds_so1 = [1,2,3]\n",
    "#ds_so2 = [4,5,6]\n",
    "#ds_so1.extend(ds_so2)\n",
    "#print(ds_so1)\n",
    "my_list = [1,2,3,4,5,\"hello\",[4,5]]\n",
    "my_list.remove([4,5])\n",
    "print(my_list)\n",
    "# xóa 1 phần tử dùng pop giữ lại giá trị đã xóa\n",
    "my_list = [1,2,3,4,5,\"hello\",[4,5]]\n",
    "so_thuc = my_list.pop(2)\n",
    "print(so_thuc)\n",
    "print(my_list)\n",
    "# xóa phần tử dùng del\n",
    "my_list = [1,2,3,4,5,\"hello\",[4,5]]\n",
    "del my_list[3]\n",
    "print(my_list)\n",
    "del my_list[2:4]\n",
    "print(my_list)\n",
    "# vòng lặp while\n",
    "tong = 0\n",
    "x = 10\n",
    "while x>=0\n",
    "while x>=0:\n",
    "    tong += x #tong = tong + x\n",
    "    x -= 1 #x = x - 1\n",
    "print(tong)\n"
   ]
  },
  {
   "cell_type": "markdown",
   "id": "c0835310",
   "metadata": {},
   "source": [
    "## Lab 3 - Bài 2"
   ]
  },
  {
   "cell_type": "code",
   "execution_count": null,
   "id": "fa9cb39f",
   "metadata": {},
   "outputs": [],
   "source": [
    "# Code lab 3  bài 2 ở đây"
   ]
  },
  {
   "cell_type": "markdown",
   "id": "0f2483fe",
   "metadata": {},
   "source": [
    "## Lab 3 - Bài 3"
   ]
  },
  {
   "cell_type": "code",
   "execution_count": null,
   "id": "7034990b",
   "metadata": {},
   "outputs": [],
   "source": [
    "# Code lab 3  bài 3 ở đây"
   ]
  },
  {
   "cell_type": "markdown",
   "id": "d36ea3d3",
   "metadata": {},
   "source": [
    "## Lab 3 - Bài 4"
   ]
  },
  {
   "cell_type": "code",
   "execution_count": null,
   "id": "4c707ec1",
   "metadata": {},
   "outputs": [],
   "source": [
    "# code lab 3 bài 4 ở đây"
   ]
  },
  {
   "cell_type": "markdown",
   "id": "e2b41d4a",
   "metadata": {},
   "source": [
    "## Lab 3 - Bài 5: bài tập làm thêm"
   ]
  },
  {
   "cell_type": "code",
   "execution_count": null,
   "id": "0e0172f7",
   "metadata": {},
   "outputs": [],
   "source": [
    "# code lab 3  bài làm thêm ở đây "
   ]
  }
 ],
 "metadata": {
  "kernelspec": {
   "display_name": "Python 3",
   "language": "python",
   "name": "python3"
  },
  "language_info": {
   "codemirror_mode": {
    "name": "ipython",
    "version": 3
   },
   "file_extension": ".py",
   "mimetype": "text/x-python",
   "name": "python",
   "nbconvert_exporter": "python",
   "pygments_lexer": "ipython3",
   "version": "3.13.7"
  }
 },
 "nbformat": 4,
 "nbformat_minor": 5
}
