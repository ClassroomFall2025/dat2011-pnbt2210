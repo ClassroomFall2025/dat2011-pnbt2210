{
 "cells": [
  {
   "cell_type": "markdown",
   "id": "fdeff819",
   "metadata": {},
   "source": [
    "# Sinh Viên thực hiện Lab 5 ở Đây"
   ]
  },
  {
   "cell_type": "markdown",
   "id": "acc5d7dc",
   "metadata": {},
   "source": [
    "## Lab 5 - Bài 1"
   ]
  },
  {
   "cell_type": "code",
   "execution_count": null,
   "id": "001e0507",
   "metadata": {},
   "outputs": [],
   "source": [
    "# Code lab 5 bài 1 ở đây\n",
    "\n"
   ]
  },
  {
   "cell_type": "markdown",
   "id": "c0835310",
   "metadata": {},
   "source": [
    "## Lab 5 - Bài 2"
   ]
  },
  {
   "cell_type": "code",
   "execution_count": 4,
   "id": "fa9cb39f",
   "metadata": {},
   "outputs": [
    {
     "name": "stdout",
     "output_type": "stream",
     "text": [
      "=== Nhập sản phẩm 1 ===\n",
      "\n",
      "=== Nhập sản phẩm 2 ===\n",
      "\n",
      "=== Thông tin sản phẩm 1 ===\n",
      "sản phẩm beer có giá 20.0 và được giảm gia 1.0, Thuế nhập khẩu 2.0\n",
      "\n",
      "=== Thông tin sản phẩm 2 ===\n",
      "sản phẩm nước ngọt có giá 12.0 và được giảm gia 1000.0, Thuế nhập khẩu 1.2000000000000002\n"
     ]
    }
   ],
   "source": [
    "# Code lab 5  bài 2 ở đây\n",
    "from sp import *\n",
    "\n",
    "sp1 = SanPham(\"\", 0, 0)\n",
    "sp2 = SanPham(\"\", 0, 0)\n",
    "\n",
    "print(\"=== Nhập sản phẩm 1 ===\")\n",
    "sp1.nhap_thong_tin()\n",
    "\n",
    "print(\"\\n=== Nhập sản phẩm 2 ===\")\n",
    "sp2.nhap_thong_tin()\n",
    "\n",
    "print(\"\\n=== Thông tin sản phẩm 1 ===\")\n",
    "sp1.xuat_tt_sp()\n",
    "\n",
    "print(\"\\n=== Thông tin sản phẩm 2 ===\")\n",
    "sp2.xuat_tt_sp()"
   ]
  },
  {
   "cell_type": "markdown",
   "id": "0f2483fe",
   "metadata": {},
   "source": [
    "## Lab 5 - Bài 3"
   ]
  },
  {
   "cell_type": "code",
   "execution_count": null,
   "id": "7034990b",
   "metadata": {},
   "outputs": [],
   "source": [
    "# Code lab 5  bài 3 ở đây"
   ]
  },
  {
   "cell_type": "markdown",
   "id": "d36ea3d3",
   "metadata": {},
   "source": [
    "## Lab 5 - Bài 4"
   ]
  },
  {
   "cell_type": "code",
   "execution_count": null,
   "id": "4c707ec1",
   "metadata": {},
   "outputs": [],
   "source": [
    "# code lab 5 bài 4 ở đây"
   ]
  },
  {
   "cell_type": "markdown",
   "id": "e2b41d4a",
   "metadata": {},
   "source": [
    "## Lab 5 - Bài 5: bài tập làm thêm"
   ]
  },
  {
   "cell_type": "code",
   "execution_count": null,
   "id": "0e0172f7",
   "metadata": {},
   "outputs": [],
   "source": [
    "# code lab 5  bài làm thêm ở đây "
   ]
  }
 ],
 "metadata": {
  "kernelspec": {
   "display_name": "Python 3",
   "language": "python",
   "name": "python3"
  },
  "language_info": {
   "name": "python",
   "version": "3.13.7"
  }
 },
 "nbformat": 4,
 "nbformat_minor": 5
}
