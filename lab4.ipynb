{
 "cells": [
  {
   "cell_type": "markdown",
   "id": "fdeff819",
   "metadata": {},
   "source": [
    "# Sinh Viên thực hiện Lab 4 ở Đây"
   ]
  },
  {
   "cell_type": "markdown",
   "id": "acc5d7dc",
   "metadata": {},
   "source": [
    "## Lab 1 - Bài 1"
   ]
  },
  {
   "cell_type": "code",
   "execution_count": null,
   "id": "001e0507",
   "metadata": {},
   "outputs": [],
   "source": [
    "# Code lab 4 bài 1 ở đây\n",
    "\n"
   ]
  },
  {
   "cell_type": "markdown",
   "id": "c0835310",
   "metadata": {},
   "source": [
    "## Lab 4 - Bài 2"
   ]
  },
  {
   "cell_type": "code",
   "execution_count": null,
   "id": "fa9cb39f",
   "metadata": {},
   "outputs": [],
   "source": [
    "# Code lab 4  bài 2 ở đây\n"
   ]
  },
  {
   "cell_type": "markdown",
   "id": "0f2483fe",
   "metadata": {},
   "source": [
    "## Lab 4 - Bài 3"
   ]
  },
  {
   "cell_type": "code",
   "execution_count": 2,
   "id": "7034990b",
   "metadata": {},
   "outputs": [
    {
     "name": "stdout",
     "output_type": "stream",
     "text": [
      "Các số chẵn trong dãy là: [2, 4, 6, 8]\n"
     ]
    }
   ],
   "source": [
    "# Code lab 4  bài 3 ở đây\n",
    "try:\n",
    "    chuoi = input(\"Nhập dãy số nguyên: \")\n",
    "    my_list = list(map(int, chuoi.split()))\n",
    "    new_list = list(filter(lambda x: x % 2 == 0, my_list))\n",
    "    print(\"Các số chẵn trong dãy là:\", new_list)\n",
    "except ValueError:\n",
    "    print(\"Lỗi: Vui lòng chỉ nhập các số nguyên hợp lệ!\")\n"
   ]
  },
  {
   "cell_type": "markdown",
   "id": "d36ea3d3",
   "metadata": {},
   "source": [
    "## Lab 4 - Bài 4"
   ]
  },
  {
   "cell_type": "code",
   "execution_count": 1,
   "id": "795609aa",
   "metadata": {},
   "outputs": [
    {
     "name": "stdout",
     "output_type": "stream",
     "text": [
      "==============================Menu==============================\n",
      "1:Tinh tien nuoc sinh hoat\n",
      "2:Tinh nguyen lieu lam banh\n",
      "3:Thoat\n",
      "===============================================================\n",
      "tinh nguyen lieu lam banh\n",
      "\n",
      "So luong duong can dung: 0.46 kg\n",
      "So luong dau can dung: 0.22000000000000003 kg\n",
      "==============================Menu==============================\n",
      "1:Tinh tien nuoc sinh hoat\n",
      "2:Tinh nguyen lieu lam banh\n",
      "3:Thoat\n",
      "===============================================================\n",
      "Thoat chuong trinh\n"
     ]
    }
   ],
   "source": [
    "from Lab4 import tinh_tien_nuoc\n",
    "from Lab4 import tinh_nguyen_lieu\n",
    "menu = {\n",
    "    \"1\":\"Tinh tien nuoc sinh hoat\",\n",
    "    \"2\":\"Tinh nguyen lieu lam banh\",\n",
    "    \"3\":\"Thoat\"\n",
    "}\n",
    "while True:\n",
    "    print (\"===\"*10 + \"Menu\"+ \"===\"*10)\n",
    "    for k, v in menu.items():\n",
    "        print (f\"{k}:{v}\")\n",
    "    print (\"===\"*10+ \"===\" + \"===\"*10)\n",
    "    lua_chon = input(\"Nhap lua chon cua ban:\")\n",
    "    if lua_chon == \"3\":\n",
    "        print(\"Thoat chuong trinh\")\n",
    "        break\n",
    "    elif lua_chon ==\"1\":\n",
    "        print(\"Tinh tien nuoc sinh hoat\")\n",
    "        so_nuoc = int(input(\"Nhap so nuoc tieu thu:\"))\n",
    "        print(f\"Tien nuoc phai tra {so_nuoc} la:{tinh_tien_nuoc(so_nuoc)}VND\")\n",
    "    elif lua_chon ==\"2\":\n",
    "        print (\"tinh nguyen lieu lam banh\")\n",
    "        sl_bdx = int(input(\"Nhap so luong banh dau xanh:\"))\n",
    "        sl_btc = int(input(\"Nhap so luong banh thap cam:\"))\n",
    "        sl_bd = int(input(\"Nhap so luong banh deo\"))\n",
    "\n",
    "        nguyen_lieu = tinh_nguyen_lieu(sl_bdx, sl_btc, sl_bd)\n",
    "        print(\"\\nSo luong duong can dung:\", nguyen_lieu[\"duong\"], \"kg\")\n",
    "        print(\"So luong dau can dung:\", nguyen_lieu[\"dau\"], \"kg\")\n",
    "\n"
   ]
  },
  {
   "cell_type": "markdown",
   "id": "e2b41d4a",
   "metadata": {},
   "source": [
    "## Lab 4 - Bài 5: bài tập làm thêm"
   ]
  },
  {
   "cell_type": "code",
   "execution_count": 1,
   "id": "0e0172f7",
   "metadata": {},
   "outputs": [],
   "source": [
    "# code lab 4  bài làm thêm ở đây\n",
    "\n",
    "\n",
    " "
   ]
  }
 ],
 "metadata": {
  "kernelspec": {
   "display_name": "Python 3",
   "language": "python",
   "name": "python3"
  },
  "language_info": {
   "codemirror_mode": {
    "name": "ipython",
    "version": 3
   },
   "file_extension": ".py",
   "mimetype": "text/x-python",
   "name": "python",
   "nbconvert_exporter": "python",
   "pygments_lexer": "ipython3",
   "version": "3.13.7"
  }
 },
 "nbformat": 4,
 "nbformat_minor": 5
}
