{
 "cells": [
  {
   "cell_type": "markdown",
   "id": "fdeff819",
   "metadata": {},
   "source": [
    "# Sinh Viên thực hiện Lab 4 ở Đây"
   ]
  },
  {
   "cell_type": "markdown",
   "id": "acc5d7dc",
   "metadata": {},
   "source": [
    "## Lab 1 - Bài 1"
   ]
  },
  {
   "cell_type": "code",
   "execution_count": null,
   "id": "001e0507",
   "metadata": {},
   "outputs": [],
   "source": [
    "# Code lab 4 bài 1 ở đây"
   ]
  },
  {
   "cell_type": "markdown",
   "id": "c0835310",
   "metadata": {},
   "source": [
    "## Lab 4 - Bài 2"
   ]
  },
  {
   "cell_type": "code",
   "execution_count": null,
   "id": "fa9cb39f",
   "metadata": {},
   "outputs": [],
   "source": [
    "# Code lab 4  bài 2 ở đây"
   ]
  },
  {
   "cell_type": "markdown",
   "id": "0f2483fe",
   "metadata": {},
   "source": [
    "## Lab 4 - Bài 3"
   ]
  },
  {
   "cell_type": "code",
   "execution_count": null,
   "id": "7034990b",
   "metadata": {},
   "outputs": [],
   "source": [
    "# Code lab 4  bài 3 ở đây"
   ]
  },
  {
   "cell_type": "markdown",
   "id": "d36ea3d3",
   "metadata": {},
   "source": [
    "## Lab 4 - Bài 4"
   ]
  },
  {
   "cell_type": "code",
   "execution_count": null,
   "id": "4c707ec1",
   "metadata": {},
   "outputs": [],
   "source": [
    "# code lab 4 bài 4 ở đây\n"
   ]
  },
  {
   "cell_type": "markdown",
   "id": "e2b41d4a",
   "metadata": {},
   "source": [
    "## Lab 4 - Bài 5: bài tập làm thêm"
   ]
  },
  {
   "cell_type": "code",
   "execution_count": 3,
   "id": "0e0172f7",
   "metadata": {},
   "outputs": [
    {
     "name": "stdout",
     "output_type": "stream",
     "text": [
      "========== MENU ==========\n",
      "1: Tính tiền nước sinh hoạt\n",
      "2: Tính nguyên liệu làm bánh\n",
      "3: Thoát\n",
      "==============================\n",
      "=== Tính tiền nước ===\n",
      "Tiền nước phải trả cho 1 m³ là: 7500 VND\n",
      "========== MENU ==========\n",
      "1: Tính tiền nước sinh hoạt\n",
      "2: Tính nguyên liệu làm bánh\n",
      "3: Thoát\n",
      "==============================\n",
      "Thoát chương trình.\n"
     ]
    }
   ],
   "source": [
    "# code lab 4  bài làm thêm ở đây\n",
    "# Lab 4 - Bài 4\n",
    "# =============================\n",
    "# Lab 4 - Bài làm thêm\n",
    "# =============================\n",
    "\n",
    "\n",
    "# code lab 4 bài làm thêm ở đây\n",
    "# Lab 4 - Bài 4\n",
    "from Lab4 import tinh_tien_nuoc\n",
    "from Lab4 import tinh_nguyen_lieu\n",
    "\n",
    "# # Hàm tính nguyên liệu làm bánh\n",
    "# def tinh_nguyen_lieu(so_banh):\n",
    "#     bot = so_banh * 100   # gram\n",
    "#     duong = so_banh * 50  # gram\n",
    "#     trung = so_banh * 1   # quả\n",
    "#     sua = so_banh * 30    # ml\n",
    "#     return bot, duong, trung, sua\n",
    "\n",
    "\n",
    "# Tạo menu\n",
    "menu = {\n",
    "    \"1\": \"Tính tiền nước sinh hoạt\",\n",
    "    \"2\": \"Tính nguyên liệu làm bánh\",\n",
    "    \"3\": \"Thoát\"\n",
    "}\n",
    "\n",
    "while True:\n",
    "    print(\"=\" * 10 + \" MENU \" + \"=\" * 10)\n",
    "    for k, v in menu.items():\n",
    "        print(f\"{k}: {v}\")\n",
    "    print(\"=\" * 30)\n",
    "\n",
    "    lua_chon = input(\"Nhập lựa chọn của bạn: \")\n",
    "\n",
    "    if lua_chon == \"3\":\n",
    "        print(\"Thoát chương trình.\")\n",
    "        break\n",
    "\n",
    "    elif lua_chon == \"1\":\n",
    "        print(\"=== Tính tiền nước ===\")\n",
    "        try:\n",
    "            so_nuoc = int(input(\"Nhập số nước tiêu thụ (m³): \"))\n",
    "            tien = tinh_tien_nuoc(so_nuoc)\n",
    "            print(f\"Tiền nước phải trả cho {so_nuoc} m³ là: {tien} VND\")\n",
    "        except ValueError:\n",
    "            print(\"Vui lòng nhập số hợp lệ!\")\n",
    "\n",
    "    elif lua_chon == \"2\":\n",
    "        print(\"=== Tính nguyên liệu làm bánh ===\")\n",
    "        try:\n",
    "            so_banh = int(input(\"Nhập số bánh muốn làm: \"))\n",
    "            bot, duong, trung, sua = tinh_nguyen_lieu(so_banh)\n",
    "            print(f\"Để làm {so_banh} bánh cần:\")\n",
    "            print(f\"- Bột: {bot} gram\")\n",
    "            print(f\"- Đường: {duong} gram\")\n",
    "            print(f\"- Trứng: {trung} quả\")\n",
    "            print(f\"- Sữa: {sua} ml\")\n",
    "        except ValueError:\n",
    "            print(\"Vui lòng nhập số hợp lệ!\")\n",
    "\n",
    "    else:\n",
    "        print(\"Lựa chọn không hợp lệ, vui lòng thử lại!\")\n",
    "\n",
    " "
   ]
  }
 ],
 "metadata": {
  "kernelspec": {
   "display_name": "Python 3",
   "language": "python",
   "name": "python3"
  },
  "language_info": {
   "codemirror_mode": {
    "name": "ipython",
    "version": 3
   },
   "file_extension": ".py",
   "mimetype": "text/x-python",
   "name": "python",
   "nbconvert_exporter": "python",
   "pygments_lexer": "ipython3",
   "version": "3.13.7"
  }
 },
 "nbformat": 4,
 "nbformat_minor": 5
}
