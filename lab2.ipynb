{
 "cells": [
  {
   "cell_type": "markdown",
   "id": "fdeff819",
   "metadata": {},
   "source": [
    "# Sinh Viên thực hiện Lab 2 ở Đây"
   ]
  },
  {
   "cell_type": "markdown",
   "id": "acc5d7dc",
   "metadata": {},
   "source": [
    "## Lab 2 - Bài 1"
   ]
  },
  {
   "cell_type": "code",
   "execution_count": 4,
   "id": "001e0507",
   "metadata": {},
   "outputs": [
    {
     "name": "stdout",
     "output_type": "stream",
     "text": [
      "Vị trí con người trong bài thơ là: 5\n",
      "Trích xuất từ con người trong bài thơ là: CON NGƯỜI\n"
     ]
    }
   ],
   "source": [
    "# Code lab 2 bài 1 ở đây\n",
    "# Dat bien cho bai tho\n",
    "Baitho = '''Kiếp con người mỏng manh như là gió\n",
    "Sống trên đời được có mấy lần vui \n",
    "Sao phải đau mà không thể mỉm cười\n",
    "Gắng buông nỗi ngậm ngùi nơi quá khứ\n",
    "\n",
    "Nếu có thể sao ta không làm thử\n",
    "Để tâm hồn khắc hai chữ bình an\n",
    "Cho đôi chân bước thanh thản nhẹ nhàng\n",
    "Dù hướng đời có muôn ngàn đá sỏi\n",
    "'''\n",
    "ketqua = Baitho.find('con người')\n",
    "print('Vị trí con người trong bài thơ là:', ketqua)\n",
    "#bai tho [index1:index2]\n",
    "index1= Baitho.find('con người')\n",
    "index2= index1 + len('con người')\n",
    "trich_xuat_tu_con_nguoi= Baitho[index1:index2].upper()\n",
    "print('Trích xuất từ con người trong bài thơ là:', trich_xuat_tu_con_nguoi)"
   ]
  },
  {
   "cell_type": "markdown",
   "id": "c0835310",
   "metadata": {},
   "source": [
    "## Lab 2 - Bài 2"
   ]
  },
  {
   "cell_type": "code",
   "execution_count": 9,
   "id": "fa9cb39f",
   "metadata": {},
   "outputs": [
    {
     "name": "stdout",
     "output_type": "stream",
     "text": [
      "Bài thơ sau khi thay thế là:\n",
      " Kiếp con người mỏng manh như là gió\n",
      "Sống trên đời được có mấy lần vui \n",
      "Sao phải đau mà không thể mỉm cười\n",
      "Gắng buông nỗi ngậm ngùi nơi quá khứ\n",
      "\n",
      "Nếu có thể sao ta không làm thử\n",
      "Để tâm hồn khắc hai chữ hạnh phúc\n",
      "Cho đôi chân bước thanh thản nhẹ nhàng\n",
      "Dù hướng đời có muôn ngàn đá sỏi\n",
      "Bài thơ mới là:\n",
      " \"...\n",
      "Kiếp con người mỏng manh như là gió\n",
      "Sống trên đời được có mấy lần vui \n",
      "Sao phải đau mà không thể mỉm cười\n",
      "Gắng buông nỗi ngậm ngùi nơi quá khứ\n",
      "\n",
      "Nếu có thể sao ta không làm thử\n",
      "Để tâm hồn khắc hai chữ bình an\n",
      "Cho đôi chân bước thanh thản nhẹ nhàng\n",
      "Dù hướng đời có muôn ngàn đá sỏi...\"\n"
     ]
    }
   ],
   "source": [
    "# Code lab 2  bài 2 ở đây\n",
    "#thay the binh an thanh hanh phuc\n",
    "\n",
    "Baitho = '''Kiếp con người mỏng manh như là gió\n",
    "Sống trên đời được có mấy lần vui \n",
    "Sao phải đau mà không thể mỉm cười\n",
    "Gắng buông nỗi ngậm ngùi nơi quá khứ\n",
    "\n",
    "Nếu có thể sao ta không làm thử\n",
    "Để tâm hồn khắc hai chữ bình an\n",
    "Cho đôi chân bước thanh thản nhẹ nhàng\n",
    "Dù hướng đời có muôn ngàn đá sỏi'''\n",
    "\n",
    "thay_the_tu_binh_an = Baitho.replace('bình an','hạnh phúc')\n",
    "print('Bài thơ sau khi thay thế là:\\n', thay_the_tu_binh_an)\n",
    "\n",
    "Dongdaubaitho ='\"...'\n",
    "Dongcuoibaitho = '...\"'\n",
    "Baitho_moi = Dongdaubaitho +'\\n' + Baitho + Dongcuoibaitho\n",
    "print('Bài thơ mới là:\\n', Baitho_moi)\n"
   ]
  },
  {
   "cell_type": "markdown",
   "id": "0f2483fe",
   "metadata": {},
   "source": [
    "## Lab 2 - Bài 3"
   ]
  },
  {
   "cell_type": "code",
   "execution_count": 12,
   "id": "7034990b",
   "metadata": {},
   "outputs": [
    {
     "name": "stdout",
     "output_type": "stream",
     "text": [
      "Phương trình có nghiệm duy nhất x = 1.5\n"
     ]
    }
   ],
   "source": [
    "# Code lab 2  bài 3 ở đây\n",
    "#giải phương trình bậc nhất bx +c =0\n",
    "# nhập hệ số b,c\n",
    "b = float(input('Nhập hệ số b: '))\n",
    "c = float(input('Nhập hệ số c: '))\n",
    "if b == 0:\n",
    "    if c == 0:\n",
    "        print('Phương trình có vô số nghiệm')\n",
    "    else:\n",
    "        print('Phương trình vô nghiệm')\n",
    "else:\n",
    "    x = -c / b\n",
    "    print('Phương trình có nghiệm duy nhất x =', x)"
   ]
  },
  {
   "cell_type": "markdown",
   "id": "d36ea3d3",
   "metadata": {},
   "source": [
    "## Lab 2 - Bài 4"
   ]
  },
  {
   "cell_type": "code",
   "execution_count": 15,
   "id": "4c707ec1",
   "metadata": {},
   "outputs": [
    {
     "name": "stdout",
     "output_type": "stream",
     "text": [
      "Phương trình vô nghiệm\n"
     ]
    }
   ],
   "source": [
    "# code lab 2 bài 4 ở đây\n",
    "#giải phương trình bậc hai ax^2 + bx + c = 0\n",
    "import math\n",
    "a = float(input('Nhập hệ số a: '))\n",
    "b = float(input('Nhập hệ số b: '))\n",
    "c = float(input('Nhập hệ số c: '))\n",
    "if a == 0:\n",
    "    # Giải phương trình bậc nhất\n",
    "    if b == 0:\n",
    "        if c == 0:\n",
    "         print('Phương trình có vô số nghiệm')\n",
    "        else:\n",
    "         print('Phương trình vô nghiệm')\n",
    "    else:\n",
    "        x = -c / b\n",
    "        print('Phương trình có nghiệm duy nhất x =', x)\n",
    "else:# a != 0\n",
    "    # Giải phương trình bậc hai\n",
    "    delta = b**2 - 4*a*c\n",
    "    if delta < 0:\n",
    "        print ('Phương trình vô nghiệm')\n",
    "    elif delta==0:\n",
    "        x= -b/(2*a)\n",
    "        print('Phương trình có nghiệm kép x1 = x2 =', x)\n",
    "    else:\n",
    "        x1 = (-b + math.sqrt(delta)) / (2*a)\n",
    "        x2 = (-b - math.sqrt(delta)) / (2*a)\n",
    "        print('Phương trình có hai nghiệm phân biệt:')\n",
    "        print('x1 =', x1)\n",
    "        print('x2 =', x2)"
   ]
  },
  {
   "cell_type": "markdown",
   "id": "e2b41d4a",
   "metadata": {},
   "source": [
    "## Lab 2 - Bài 5: bài tập làm thêm"
   ]
  },
  {
   "cell_type": "code",
   "execution_count": null,
   "id": "0e0172f7",
   "metadata": {},
   "outputs": [],
   "source": [
    "# code lab 2  bài làm thêm ở đây "
   ]
  }
 ],
 "metadata": {
  "kernelspec": {
   "display_name": "Python 3",
   "language": "python",
   "name": "python3"
  },
  "language_info": {
   "codemirror_mode": {
    "name": "ipython",
    "version": 3
   },
   "file_extension": ".py",
   "mimetype": "text/x-python",
   "name": "python",
   "nbconvert_exporter": "python",
   "pygments_lexer": "ipython3",
   "version": "3.13.7"
  }
 },
 "nbformat": 4,
 "nbformat_minor": 5
}
