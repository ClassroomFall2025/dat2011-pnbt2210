{
 "cells": [
  {
   "cell_type": "markdown",
   "id": "fdeff819",
   "metadata": {},
   "source": [
    "# Sinh Viên thực hiện Lab 2 ở Đây"
   ]
  },
  {
   "cell_type": "markdown",
   "id": "acc5d7dc",
   "metadata": {},
   "source": [
    "## Lab 2 - Bài 1"
   ]
  },
  {
   "cell_type": "code",
   "execution_count": 4,
   "id": "001e0507",
   "metadata": {},
   "outputs": [
    {
     "name": "stdout",
     "output_type": "stream",
     "text": [
      "Vị trí con người trong bài thơ là: 5\n",
      "Trích xuất từ con người trong bài thơ là: CON NGƯỜI\n"
     ]
    }
   ],
   "source": [
    "# Code lab 2 bài 1 ở đây\n",
    "# Dat bien cho bai tho\n",
    "Baitho = '''Kiếp con người mỏng manh như là gió\n",
    "Sống trên đời được có mấy lần vui \n",
    "Sao phải đau mà không thể mỉm cười\n",
    "Gắng buông nỗi ngậm ngùi nơi quá khứ\n",
    "\n",
    "Nếu có thể sao ta không làm thử\n",
    "Để tâm hồn khắc hai chữ bình an\n",
    "Cho đôi chân bước thanh thản nhẹ nhàng\n",
    "Dù hướng đời có muôn ngàn đá sỏi\n",
    "'''\n",
    "ketqua = Baitho.find('con người')\n",
    "print('Vị trí con người trong bài thơ là:', ketqua)\n",
    "#bai tho [index1:index2]\n",
    "index1= Baitho.find('con người')\n",
    "index2= index1 + len('con người')\n",
    "trich_xuat_tu_con_nguoi= Baitho[index1:index2].upper()\n",
    "print('Trích xuất từ con người trong bài thơ là:', trich_xuat_tu_con_nguoi)"
   ]
  },
  {
   "cell_type": "markdown",
   "id": "c0835310",
   "metadata": {},
   "source": [
    "## Lab 2 - Bài 2"
   ]
  },
  {
   "cell_type": "code",
   "execution_count": 9,
   "id": "fa9cb39f",
   "metadata": {},
   "outputs": [
    {
     "name": "stdout",
     "output_type": "stream",
     "text": [
      "Bài thơ sau khi thay thế là:\n",
      " Kiếp con người mỏng manh như là gió\n",
      "Sống trên đời được có mấy lần vui \n",
      "Sao phải đau mà không thể mỉm cười\n",
      "Gắng buông nỗi ngậm ngùi nơi quá khứ\n",
      "\n",
      "Nếu có thể sao ta không làm thử\n",
      "Để tâm hồn khắc hai chữ hạnh phúc\n",
      "Cho đôi chân bước thanh thản nhẹ nhàng\n",
      "Dù hướng đời có muôn ngàn đá sỏi\n",
      "Bài thơ mới là:\n",
      " \"...\n",
      "Kiếp con người mỏng manh như là gió\n",
      "Sống trên đời được có mấy lần vui \n",
      "Sao phải đau mà không thể mỉm cười\n",
      "Gắng buông nỗi ngậm ngùi nơi quá khứ\n",
      "\n",
      "Nếu có thể sao ta không làm thử\n",
      "Để tâm hồn khắc hai chữ bình an\n",
      "Cho đôi chân bước thanh thản nhẹ nhàng\n",
      "Dù hướng đời có muôn ngàn đá sỏi...\"\n"
     ]
    }
   ],
   "source": [
    "# Code lab 2  bài 2 ở đây\n",
    "#thay the binh an thanh hanh phuc\n",
    "\n",
    "Baitho = '''Kiếp con người mỏng manh như là gió\n",
    "Sống trên đời được có mấy lần vui \n",
    "Sao phải đau mà không thể mỉm cười\n",
    "Gắng buông nỗi ngậm ngùi nơi quá khứ\n",
    "\n",
    "Nếu có thể sao ta không làm thử\n",
    "Để tâm hồn khắc hai chữ bình an\n",
    "Cho đôi chân bước thanh thản nhẹ nhàng\n",
    "Dù hướng đời có muôn ngàn đá sỏi'''\n",
    "\n",
    "thay_the_tu_binh_an = Baitho.replace('bình an','hạnh phúc')\n",
    "print('Bài thơ sau khi thay thế là:\\n', thay_the_tu_binh_an)\n",
    "\n",
    "Dongdaubaitho ='\"...'\n",
    "Dongcuoibaitho = '...\"'\n",
    "Baitho_moi = Dongdaubaitho +'\\n' + Baitho + Dongcuoibaitho\n",
    "print('Bài thơ mới là:\\n', Baitho_moi)\n"
   ]
  },
  {
   "cell_type": "markdown",
   "id": "0f2483fe",
   "metadata": {},
   "source": [
    "## Lab 2 - Bài 3"
   ]
  },
  {
   "cell_type": "code",
   "execution_count": 12,
   "id": "7034990b",
   "metadata": {},
   "outputs": [
    {
     "name": "stdout",
     "output_type": "stream",
     "text": [
      "Phương trình có nghiệm duy nhất x = 1.5\n"
     ]
    }
   ],
   "source": [
    "# Code lab 2  bài 3 ở đây\n",
    "#giải phương trình bậc nhất bx +c =0\n",
    "# nhập hệ số b,c\n",
    "b = float(input('Nhập hệ số b: '))\n",
    "c = float(input('Nhập hệ số c: '))\n",
    "if b == 0:\n",
    "    if c == 0:\n",
    "        print('Phương trình có vô số nghiệm')\n",
    "    else:\n",
    "        print('Phương trình vô nghiệm')\n",
    "else:\n",
    "    x = -c / b\n",
    "    print('Phương trình có nghiệm duy nhất x =', x)"
   ]
  },
  {
   "cell_type": "markdown",
   "id": "d36ea3d3",
   "metadata": {},
   "source": [
    "## Lab 2 - Bài 4"
   ]
  },
  {
   "cell_type": "code",
   "execution_count": 15,
   "id": "4c707ec1",
   "metadata": {},
   "outputs": [
    {
     "name": "stdout",
     "output_type": "stream",
     "text": [
      "Phương trình vô nghiệm\n"
     ]
    }
   ],
   "source": [
    "# code lab 2 bài 4 ở đây\n",
    "#giải phương trình bậc hai ax^2 + bx + c = 0\n",
    "import math\n",
    "a = float(input('Nhập hệ số a: '))\n",
    "b = float(input('Nhập hệ số b: '))\n",
    "c = float(input('Nhập hệ số c: '))\n",
    "if a == 0:\n",
    "    # Giải phương trình bậc nhất\n",
    "    if b == 0:\n",
    "        if c == 0:\n",
    "         print('Phương trình có vô số nghiệm')\n",
    "        else:\n",
    "         print('Phương trình vô nghiệm')\n",
    "    else:\n",
    "        x = -c / b\n",
    "        print('Phương trình có nghiệm duy nhất x =', x)\n",
    "else:# a != 0\n",
    "    # Giải phương trình bậc hai\n",
    "    delta = b**2 - 4*a*c\n",
    "    if delta < 0:\n",
    "        print ('Phương trình vô nghiệm')\n",
    "    elif delta==0:\n",
    "        x= -b/(2*a)\n",
    "        print('Phương trình có nghiệm kép x1 = x2 =', x)\n",
    "    else:\n",
    "        x1 = (-b + math.sqrt(delta)) / (2*a)\n",
    "        x2 = (-b - math.sqrt(delta)) / (2*a)\n",
    "        print('Phương trình có hai nghiệm phân biệt:')\n",
    "        print('x1 =', x1)\n",
    "        print('x2 =', x2)"
   ]
  },
  {
   "cell_type": "markdown",
   "id": "e2b41d4a",
   "metadata": {},
   "source": [
    "## Lab 2 - Bài 5: bài tập làm thêm"
   ]
  },
  {
   "cell_type": "code",
   "execution_count": null,
   "id": "0e0172f7",
   "metadata": {},
   "outputs": [
    {
     "name": "stdout",
     "output_type": "stream",
     "text": [
      "Kết quả:  5.0\n",
      "Kết quả: 2.0^3.0 = 8.0\n",
      "Căn bậc hai của 8.0 là 2.8284271247461903\n",
      "sin(60.0°) = 0.8660254037844386\n",
      "cos(60.0°) = 0.5000000000000001\n",
      "tan(60.0°) = 1.7320508075688767\n",
      "log10(100.0) = 2.0\n",
      "ln(100.0) = 4.605170185988092\n",
      "log2.0(100.0) = 6.643856189774725\n",
      "Số lớn nhất là: 6.0\n"
     ]
    }
   ],
   "source": [
    "# code lab 2  bài làm thêm ở đây \n",
    "# Phép tính cơ bản\n",
    "so1= float(input('Nhập số thứ nhất: '))\n",
    "so2= float(input('Nhập số thứ hai: '))\n",
    "toantu = input('Nhập phép toán (+, -, *, /): ')\n",
    "if toantu == '+':\n",
    "    print('Kết quả: ', so1 + so2)\n",
    "elif toantu == '-':\n",
    "    print('Kết quả: ', so1 - so2)\n",
    "elif toantu == '*':\n",
    "    print('Kết quả: ', so1 * so2)\n",
    "elif toantu == '/':\n",
    "    if so2 != 0:\n",
    "        print('Kết quả: ', so1 / so2)\n",
    "    else:\n",
    "        print('Lỗi: Không thể chia cho 0')\n",
    "else:\n",
    "    print('Lỗi: Phép toán không hợp lệ')\n",
    "\n",
    "#Lũy thừa\n",
    "x = float(input('Nhập cơ số x: '))\n",
    "y = float(input('Nhập số mũ y: '))\n",
    "if y == 0:\n",
    "    ketqua = 1\n",
    "elif y > 0:\n",
    "    ketqua = x ** y\n",
    "else: # y < 0\n",
    "    ketqua = 1 / (x ** abs(y))\n",
    "print(f'Kết quả: {x}^{y} = {ketqua}')   \n",
    "# Căn bậc hai\n",
    "import math\n",
    "n = float(input('Nhập số n: '))\n",
    "if n>=0:\n",
    "    can = math.sqrt(n)\n",
    "    print(f'Căn bậc hai của {n} là {can}')\n",
    "else:\n",
    "    print('Lỗi: Không thể tính căn bậc hai của số âm')\n",
    "#Hàm lượng giác sin, cos, tan\n",
    "import math\n",
    "goc = float(input('Nhập góc (độ): '))\n",
    "goc_rad = math.radians(goc)  # Chuyển đổi độ sang radian\n",
    "sin_goc = math.sin(goc_rad)\n",
    "cos_goc = math.cos(goc_rad)\n",
    "tan_goc = math.tan(goc_rad)\n",
    "print(f'sin({goc}°) = {sin_goc}')\n",
    "print(f'cos({goc}°) = {cos_goc}')\n",
    "if cos_goc != 0:\n",
    "    print(f'tan({goc}°) = {tan_goc}')\n",
    "else:\n",
    "    print(f'tan({goc}°) không xác định (cosine bằng 0)')\n",
    "#Logarit\n",
    "import math\n",
    "m = float(input('Nhập số m (m > 0): '))\n",
    "if m > 0:\n",
    "   #log cơ số 10\n",
    "    log10_m = math.log10(m)\n",
    "    print(f'log10({m}) = {log10_m}')\n",
    "    #log cơ số e\n",
    "    loge_m = math.log(m)\n",
    "    print(f'ln({m}) = {loge_m}')\n",
    "    #log cơ số tùy chọn\n",
    "    co_so = float(input('Nhập cơ số log (cơ số > 1 và khác 1): '))\n",
    "    if co_so >= 2 and co_so != 1:\n",
    "        log_tuychon = math.log(m, co_so)\n",
    "        print(f'log{co_so}({m}) = {log_tuychon}')\n",
    "    else:\n",
    "        print('Lỗi: Cơ số log phải lớn hơn 1 và khác 1')\n",
    "else :\n",
    "    print('Lỗi: Không thể tính logarit của số âm hoặc bằng 0')\n",
    "\n",
    "#Tìm số lớn nhất trong 3 số\n",
    "So1 = float(input('Nhập số thu nhat: '))\n",
    "So2 = float(input('Nhập số thu hai: '))\n",
    "So3 = float(input('Nhập số thu ba: '))\n",
    "if So1 >= So2 and So1 >= So3:\n",
    "    max_so = So1\n",
    "elif So2 >= So1 and So2 >= So3:\n",
    "    max_so = So2\n",
    "else:\n",
    "    max_so = So3\n",
    "print('Số lớn nhất là:', max_so)"
   ]
  }
 ],
 "metadata": {
  "kernelspec": {
   "display_name": "Python 3",
   "language": "python",
   "name": "python3"
  },
  "language_info": {
   "codemirror_mode": {
    "name": "ipython",
    "version": 3
   },
   "file_extension": ".py",
   "mimetype": "text/x-python",
   "name": "python",
   "nbconvert_exporter": "python",
   "pygments_lexer": "ipython3",
   "version": "3.13.7"
  }
 },
 "nbformat": 4,
 "nbformat_minor": 5
}
