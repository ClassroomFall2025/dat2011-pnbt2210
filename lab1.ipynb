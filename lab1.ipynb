{
 "cells": [
  {
   "cell_type": "markdown",
   "id": "fdeff819",
   "metadata": {},
   "source": [
    "# Sinh Viên thực hiện Lab 1 ở Đây"
   ]
  },
  {
   "cell_type": "markdown",
   "id": "acc5d7dc",
   "metadata": {},
   "source": [
    "## Lab 1 - Bài 1"
   ]
  },
  {
   "cell_type": "code",
   "execution_count": 1,
   "id": "001e0507",
   "metadata": {},
   "outputs": [
    {
     "name": "stdout",
     "output_type": "stream",
     "text": [
      "Xin chao\n",
      "Toi la Bao Thi\n",
      "Toi den tu Tp HCM\n"
     ]
    }
   ],
   "source": [
    "# Code lab 1 bài 1 ở đây\n",
    "print(\"Xin chao\")\n",
    "print(\"Toi la Bao Thi\")\n",
    "print(\"Toi den tu Tp HCM\")"
   ]
  },
  {
   "cell_type": "markdown",
   "id": "c0835310",
   "metadata": {},
   "source": [
    "## Lab 1 - Bài 2"
   ]
  },
  {
   "cell_type": "code",
   "execution_count": null,
   "id": "fa9cb39f",
   "metadata": {},
   "outputs": [
    {
     "name": "stdout",
     "output_type": "stream",
     "text": [
      "Chu vi hinh chu nhat la: 10.0\n",
      "Dien tich hinh chu nhat la: 6.0\n"
     ]
    }
   ],
   "source": [
    "# Code lab 1  bài 2 ở đây\n",
    "#khai bien\n",
    "\n",
    "dai = float(input(\"Nhap chieu dai hinh chu nhat: \"))\n",
    "rong = float(input(\"Nhap chieu rong hinh chu nhat: \"))\n",
    "#tinh chu vi va dien tich\n",
    "chuVi = (dai + rong) * 2\n",
    "dienTich = dai * rong\n",
    "#in ket qua\n",
    "print(\"Chu vi hinh chu nhat la:\", chuVi)\n",
    "print(\"Dien tich hinh chu nhat la:\", dienTich)\n"
   ]
  },
  {
   "cell_type": "markdown",
   "id": "0f2483fe",
   "metadata": {},
   "source": [
    "## Lab 1 - Bài 3"
   ]
  },
  {
   "cell_type": "code",
   "execution_count": null,
   "id": "7034990b",
   "metadata": {},
   "outputs": [
    {
     "name": "stdout",
     "output_type": "stream",
     "text": [
      "\"..\n",
      "Song không giận, không hờn không oán trách\n",
      "Song mỉm cười, với thử thách chông gai\n",
      "Song vươn lên, theo kịp ánh ban mai\n",
      "Song chan hòa, với những người chung sống.\n",
      "\n",
      "Song là động, nhung lòng luôn bất động\n",
      "Song là yêu thương, nhưng lòng chẳng vấn vương\n",
      "Song yên vui, danh lợi mãi coi thường\n",
      "Tâm bất biến giữa dòng đời vạn biến.\n",
      "...\"\n"
     ]
    }
   ],
   "source": [
    "# Code lab 1  bài 3 ở đây \n",
    "#khai bien\n",
    "TuSong= \"Song\"\n",
    "#in cau\n",
    "print('\"..')\n",
    "print(f\"{TuSong} không giận, không hờn không oán trách\")\n",
    "print(f\"{TuSong} mỉm cười, với thử thách chông gai\")\n",
    "print(f\"{TuSong} vươn lên, theo kịp ánh ban mai\")\n",
    "print(f\"{TuSong} chan hòa, với những người chung sống.\")\n",
    "print()\n",
    "print(f\"{TuSong} là động, nhung lòng luôn bất động\")\n",
    "print(f\"{TuSong} là yêu thương, nhưng lòng chẳng vấn vương\")\n",
    "print(f\"{TuSong} yên vui, danh lợi mãi coi thường\")\n",
    "print(\"Tâm bất biến giữa dòng đời vạn biến.\")\n",
    "print('...\"')"
   ]
  },
  {
   "cell_type": "markdown",
   "id": "d36ea3d3",
   "metadata": {},
   "source": [
    "## Lab 1 - Bài 4"
   ]
  },
  {
   "cell_type": "code",
   "execution_count": 6,
   "id": "4c707ec1",
   "metadata": {},
   "outputs": [
    {
     "name": "stdout",
     "output_type": "stream",
     "text": [
      "delta = -23.0\n",
      "Căn delta = 4.795831523312719\n"
     ]
    }
   ],
   "source": [
    "# code lab 1 bài 4 ở đây\n",
    "import math\n",
    "\n",
    "# Nhập hệ số\n",
    "a = float(input(\"Nhập hệ số a: \"))\n",
    "b = float(input(\"Nhập hệ số b: \"))\n",
    "c = float(input(\"Nhập hệ số c: \"))\n",
    "\n",
    "# Tính delta\n",
    "delta = b * b - 4 * a * c\n",
    "print(\"delta =\", delta)\n",
    "\n",
    "# Tính căn delta với abs\n",
    "can_delta = math.sqrt(abs(delta))\n",
    "print(\"Căn delta =\", can_delta)\n"
   ]
  },
  {
   "cell_type": "markdown",
   "id": "e2b41d4a",
   "metadata": {},
   "source": [
    "## Lab 1 - Bài 5: bài tập làm thêm"
   ]
  },
  {
   "cell_type": "code",
   "execution_count": null,
   "id": "0e0172f7",
   "metadata": {},
   "outputs": [
    {
     "name": "stdout",
     "output_type": "stream",
     "text": [
      "cong 6.0\n",
      "tru -2.0\n",
      "nhan 8.0\n",
      "chia 0.5\n",
      "Ket qua luy thua x^y la: 8.0\n",
      "Can bac hai cua n la: 2.449489742783178\n",
      "sin: 0.8660254037844386\n",
      "cos: 0.5000000000000001\n",
      "tan: 1.7320508075688767\n",
      "log10: 0.3010299956639812\n",
      "ln: 0.6931471805599453\n",
      "logarit co so 10.0 : 0.30102999566398114\n"
     ]
    }
   ],
   "source": [
    "# code lab 1  bài làm thêm ở đây \n",
    "# Phep tinh co ban\n",
    "a= float(input(\"Nhap so a: \"))\n",
    "b= float(input(\"Nhap so b: \"))\n",
    "print(\"cong\", a + b)\n",
    "print(\"tru\", a - b)\n",
    "print(\"nhan\", a * b)\n",
    "print(\"chia\", a / b)\n",
    "\n",
    "#Luy thua x^y\n",
    "x= float(input(\"Nhap so x: \"))\n",
    "y= float(input(\"Nhap so y: \"))\n",
    "print(\"Ket qua luy thua x^y la:\", x**y)\n",
    "\n",
    "#Can bac hai\n",
    "import math\n",
    "n= float(input(\"Nhap so n: \"))\n",
    "print(\"Can bac hai cua n la:\", math.sqrt(n))\n",
    "\n",
    "#ham luong giac\n",
    "import math\n",
    "goc= float(input(\"Nhap goc: \"))\n",
    "rad= math.radians(goc)\n",
    "print(\"sin:\", math.sin(rad))\n",
    "print(\"cos:\", math.cos(rad))\n",
    "print(\"tan:\", math.tan(rad))\n",
    "\n",
    "#logarit\n",
    "import math\n",
    "m= float(input(\"Nhap so m: \"))\n",
    "print(\"log10:\", math.log10(m))\n",
    "print(\"ln:\", math.log(m))\n",
    "coSo= float(input(\"Nhap co so: \"))\n",
    "print(\"logarit co so\", coSo, \":\", math.log(m, coSo))"
   ]
  }
 ],
 "metadata": {
  "kernelspec": {
   "display_name": "Python 3",
   "language": "python",
   "name": "python3"
  },
  "language_info": {
   "codemirror_mode": {
    "name": "ipython",
    "version": 3
   },
   "file_extension": ".py",
   "mimetype": "text/x-python",
   "name": "python",
   "nbconvert_exporter": "python",
   "pygments_lexer": "ipython3",
   "version": "3.13.7"
  }
 },
 "nbformat": 4,
 "nbformat_minor": 5
}
